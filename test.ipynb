{
 "cells": [
  {
   "cell_type": "code",
   "execution_count": 14,
   "id": "199c9c50",
   "metadata": {},
   "outputs": [
    {
     "name": "stdout",
     "output_type": "stream",
     "text": [
      "[OK] Wrote requirements.txt with 7 packages.\n",
      "  - __future__\n",
      "  - kaleido>=1.1.0,<2.0.0\n",
      "  - matplotlib>=3.10.1,<4.0.0\n",
      "  - numpy>=2.2.1,<3.0.0\n",
      "  - Pillow>=11.1.0,<12.0.0\n",
      "  - plotly>=6.3.0,<7.0.0\n",
      "  - PyYAML>=6.0.2,<7.0.0\n"
     ]
    }
   ],
   "source": [
    "# 예: 소스가 들어있는 디렉터리들을 인자로 넘김\n",
    "!python make_requirements.py software params -o requirements.txt\n"
   ]
  },
  {
   "cell_type": "code",
   "execution_count": null,
   "id": "aaa657d2",
   "metadata": {},
   "outputs": [
    {
     "name": "stdout",
     "output_type": "stream",
     "text": [
      "[SAVE] outputs/out_petrel.npz\n"
     ]
    },
    {
     "name": "stderr",
     "output_type": "stream",
     "text": [
      "Traceback (most recent call last):\n",
      "  File \"d:\\Eunssiri\\_00_PyPetrelGPM\\software\\gpm_preprocessing.py\", line 467, in <module>\n",
      "    main(sys.argv[1])\n",
      "  File \"d:\\Eunssiri\\_00_PyPetrelGPM\\software\\gpm_preprocessing.py\", line 452, in main\n",
      "    _ = preprocess_and_fill(\n",
      "        ^^^^^^^^^^^^^^^^^^^^\n",
      "  File \"d:\\Eunssiri\\_00_PyPetrelGPM\\software\\gpm_preprocessing.py\", line 371, in preprocess_and_fill\n",
      "    Silt = out[\"props\"][\"Silt\"]\n",
      "           ~~~~~~~~~~~~^^^^^^^^\n",
      "KeyError: 'Silt'\n",
      "Traceback (most recent call last):\n",
      "  File \"d:\\Eunssiri\\_00_PyPetrelGPM\\software\\gpm_viz.py\", line 415, in <module>\n",
      "    main()\n",
      "  File \"d:\\Eunssiri\\_00_PyPetrelGPM\\software\\gpm_viz.py\", line 391, in main\n",
      "    save_gpm_sections_panel(\n",
      "  File \"d:\\Eunssiri\\_00_PyPetrelGPM\\software\\gpm_viz.py\", line 243, in save_gpm_sections_panel\n",
      "    SILT = props[_find_key(props, \"Silt\")]\n",
      "                 ^^^^^^^^^^^^^^^^^^^^^^^^\n",
      "  File \"d:\\Eunssiri\\_00_PyPetrelGPM\\software\\gpm_viz.py\", line 65, in _find_key\n",
      "    raise KeyError(f\"'{target}' key not found in props: {list(props.keys())[:8]} ...\")\n",
      "KeyError: \"'Silt' key not found in props: ['Dolostone', 'Clay', 'Sand(coarse)', 'Sand(fine)', 'Depthofdeposition', 'Sand'] ...\"\n",
      "Traceback (most recent call last):\n",
      "  File \"d:\\Eunssiri\\_00_PyPetrelGPM\\software\\gpm_viz.py\", line 415, in <module>\n",
      "    main()\n",
      "  File \"d:\\Eunssiri\\_00_PyPetrelGPM\\software\\gpm_viz.py\", line 399, in main\n",
      "    save_prop_geometry3d(\n",
      "  File \"d:\\Eunssiri\\_00_PyPetrelGPM\\software\\gpm_viz.py\", line 170, in save_prop_geometry3d\n",
      "    (x, y, z), prop_dict = get_xyz_props(out)\n",
      "                           ^^^^^^^^^^^^^^^^^^\n",
      "  File \"d:\\Eunssiri\\_00_PyPetrelGPM\\software\\gpm_viz.py\", line 76, in get_xyz_props\n",
      "    k_silt = _find_key(props, \"Silt\")\n",
      "             ^^^^^^^^^^^^^^^^^^^^^^^^\n",
      "  File \"d:\\Eunssiri\\_00_PyPetrelGPM\\software\\gpm_viz.py\", line 65, in _find_key\n",
      "    raise KeyError(f\"'{target}' key not found in props: {list(props.keys())[:8]} ...\")\n",
      "KeyError: \"'Silt' key not found in props: ['Dolostone', 'Clay', 'Sand(coarse)', 'Sand(fine)', 'Depthofdeposition', 'Sand'] ...\"\n"
     ]
    },
    {
     "ename": "",
     "evalue": "",
     "output_type": "error",
     "traceback": [
      "\u001b[1;31mThe Kernel crashed while executing code in the current cell or a previous cell. \n",
      "\u001b[1;31mPlease review the code in the cell(s) to identify a possible cause of the failure. \n",
      "\u001b[1;31mClick <a href='https://aka.ms/vscodeJupyterKernelCrash'>here</a> for more info. \n",
      "\u001b[1;31mView Jupyter <a href='command:jupyter.viewOutput'>log</a> for further details."
     ]
    }
   ],
   "source": [
    "# 1) Petrel 텍스트 → NPZ\n",
    "!python software/petrel_to_numpy.py params/params_petrel.yml\n",
    "\n",
    "# 2) 전처리(크롭/보간/스케일 + PNG/NPY 저장)\n",
    "!python software/gpm_preprocessing.py params/params_preproc.yml\n",
    "\n",
    "# 3) 단면 패널 PNG\n",
    "!python software/gpm_viz.py sections params/params_viz_sections.yml\n",
    "\n",
    "# 4) 3D 산점도 PNG\n",
    "!python software/gpm_viz.py geometry3d params/params_viz_geometry3d.yml\n"
   ]
  }
 ],
 "metadata": {
  "kernelspec": {
   "display_name": "Python 3",
   "language": "python",
   "name": "python3"
  },
  "language_info": {
   "codemirror_mode": {
    "name": "ipython",
    "version": 3
   },
   "file_extension": ".py",
   "mimetype": "text/x-python",
   "name": "python",
   "nbconvert_exporter": "python",
   "pygments_lexer": "ipython3",
   "version": "3.12.10"
  }
 },
 "nbformat": 4,
 "nbformat_minor": 5
}
